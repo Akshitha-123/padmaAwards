{
 "cells": [
  {
   "cell_type": "code",
   "execution_count": 1,
   "metadata": {},
   "outputs": [],
   "source": [
    "from tkinter import N\n",
    "from selenium import webdriver\n",
    "from selenium.webdriver.common.keys import Keys\n",
    "from selenium.webdriver.support import expected_conditions as EC\n",
    "from selenium.webdriver.common.by import By\n",
    "from selenium.webdriver.support.wait import WebDriverWait\n",
    "import numpy as np\n",
    "import pandas as pd\n",
    "from time import sleep\n"
   ]
  },
  {
   "cell_type": "code",
   "execution_count": 3,
   "metadata": {},
   "outputs": [],
   "source": [
    "awards = pd.read_pickle('renders/awards_v1_03.pickle')\n",
    "test_link = awards['WikiLink'][0]"
   ]
  },
  {
   "cell_type": "code",
   "execution_count": 35,
   "metadata": {},
   "outputs": [
    {
     "name": "stderr",
     "output_type": "stream",
     "text": [
      "C:\\Users\\LEGION\\AppData\\Local\\Temp\\ipykernel_23072\\1121770783.py:1: DeprecationWarning: executable_path has been deprecated, please pass in a Service object\n",
      "  driver = webdriver.Chrome(executable_path='../driver/chromedriver')\n"
     ]
    }
   ],
   "source": [
    "driver = webdriver.Chrome(executable_path='../driver/chromedriver')\n",
    "driver.get(test_link)"
   ]
  },
  {
   "cell_type": "code",
   "execution_count": 29,
   "metadata": {},
   "outputs": [],
   "source": [
    "from selenium.webdriver.common.action_chains import ActionChains\n",
    "action = ActionChains(driver)"
   ]
  },
  {
   "cell_type": "code",
   "execution_count": 34,
   "metadata": {},
   "outputs": [],
   "source": [
    "from selenium.webdriver.common.keys import Keys\n",
    "# action.move_to_element(driver.find_element_by_xpath('//*[@id=\"firstHeading\"]')).perform();\n",
    "action.context_click().send_keys(Keys.ARROW_UP).send_keys(Keys.ARROW_UP).send_keys(Keys.ARROW_UP).send_keys(Keys.RETURN).perform()\n"
   ]
  },
  {
   "cell_type": "code",
   "execution_count": 22,
   "metadata": {},
   "outputs": [],
   "source": []
  },
  {
   "cell_type": "code",
   "execution_count": 27,
   "metadata": {},
   "outputs": [],
   "source": [
    "driver.close()"
   ]
  },
  {
   "cell_type": "markdown",
   "metadata": {},
   "source": [
    "### Geting\n",
    "> Early Life\n",
    "\n",
    "> Carrer\n",
    "\n",
    "> Awards\n",
    "\n",
    "**ONLY**"
   ]
  },
  {
   "cell_type": "markdown",
   "metadata": {},
   "source": []
  },
  {
   "cell_type": "markdown",
   "metadata": {},
   "source": [
    "#### Testing Translate"
   ]
  },
  {
   "cell_type": "code",
   "execution_count": 36,
   "metadata": {},
   "outputs": [
    {
     "ename": "OSError",
     "evalue": "Path to the extension doesn't exist",
     "output_type": "error",
     "traceback": [
      "\u001b[1;31m---------------------------------------------------------------------------\u001b[0m",
      "\u001b[1;31mOSError\u001b[0m                                   Traceback (most recent call last)",
      "\u001b[1;32mc:\\Users\\LEGION\\Documents\\padmaAwards\\src\\Scrape_01_fromWikipedia.ipynb Cell 11'\u001b[0m in \u001b[0;36m<cell line: 7>\u001b[1;34m()\u001b[0m\n\u001b[0;32m      <a href='vscode-notebook-cell:/c%3A/Users/LEGION/Documents/padmaAwards/src/Scrape_01_fromWikipedia.ipynb#ch0000008?line=3'>4</a>\u001b[0m \u001b[39mfrom\u001b[39;00m \u001b[39mselenium\u001b[39;00m\u001b[39m.\u001b[39;00m\u001b[39mwebdriver\u001b[39;00m\u001b[39m.\u001b[39;00m\u001b[39msupport\u001b[39;00m \u001b[39mimport\u001b[39;00m expected_conditions \u001b[39mas\u001b[39;00m EC\n\u001b[0;32m      <a href='vscode-notebook-cell:/c%3A/Users/LEGION/Documents/padmaAwards/src/Scrape_01_fromWikipedia.ipynb#ch0000008?line=5'>6</a>\u001b[0m option \u001b[39m=\u001b[39m webdriver\u001b[39m.\u001b[39mChromeOptions()\n\u001b[1;32m----> <a href='vscode-notebook-cell:/c%3A/Users/LEGION/Documents/padmaAwards/src/Scrape_01_fromWikipedia.ipynb#ch0000008?line=6'>7</a>\u001b[0m option\u001b[39m.\u001b[39;49madd_extension(\u001b[39m'\u001b[39;49m\u001b[39m./translate.crx\u001b[39;49m\u001b[39m'\u001b[39;49m)\n\u001b[0;32m      <a href='vscode-notebook-cell:/c%3A/Users/LEGION/Documents/padmaAwards/src/Scrape_01_fromWikipedia.ipynb#ch0000008?line=7'>8</a>\u001b[0m driver \u001b[39m=\u001b[39m webdriver\u001b[39m.\u001b[39mChrome(executable_path \u001b[39m=\u001b[39m \u001b[39m\"\u001b[39m\u001b[39m./chromedriver\u001b[39m\u001b[39m\"\u001b[39m, chrome_options \u001b[39m=\u001b[39m option)\n",
      "File \u001b[1;32m~\\anaconda3\\envs\\indicwiki\\lib\\site-packages\\selenium\\webdriver\\chromium\\options.py:101\u001b[0m, in \u001b[0;36mChromiumOptions.add_extension\u001b[1;34m(self, extension)\u001b[0m\n\u001b[0;32m     <a href='file:///c%3A/Users/LEGION/anaconda3/envs/indicwiki/lib/site-packages/selenium/webdriver/chromium/options.py?line=98'>99</a>\u001b[0m         \u001b[39mself\u001b[39m\u001b[39m.\u001b[39m_extension_files\u001b[39m.\u001b[39mappend(extension_to_add)\n\u001b[0;32m    <a href='file:///c%3A/Users/LEGION/anaconda3/envs/indicwiki/lib/site-packages/selenium/webdriver/chromium/options.py?line=99'>100</a>\u001b[0m     \u001b[39melse\u001b[39;00m:\n\u001b[1;32m--> <a href='file:///c%3A/Users/LEGION/anaconda3/envs/indicwiki/lib/site-packages/selenium/webdriver/chromium/options.py?line=100'>101</a>\u001b[0m         \u001b[39mraise\u001b[39;00m \u001b[39mIOError\u001b[39;00m(\u001b[39m\"\u001b[39m\u001b[39mPath to the extension doesn\u001b[39m\u001b[39m'\u001b[39m\u001b[39mt exist\u001b[39m\u001b[39m\"\u001b[39m)\n\u001b[0;32m    <a href='file:///c%3A/Users/LEGION/anaconda3/envs/indicwiki/lib/site-packages/selenium/webdriver/chromium/options.py?line=101'>102</a>\u001b[0m \u001b[39melse\u001b[39;00m:\n\u001b[0;32m    <a href='file:///c%3A/Users/LEGION/anaconda3/envs/indicwiki/lib/site-packages/selenium/webdriver/chromium/options.py?line=102'>103</a>\u001b[0m     \u001b[39mraise\u001b[39;00m \u001b[39mValueError\u001b[39;00m(\u001b[39m\"\u001b[39m\u001b[39margument can not be null\u001b[39m\u001b[39m\"\u001b[39m)\n",
      "\u001b[1;31mOSError\u001b[0m: Path to the extension doesn't exist"
     ]
    }
   ],
   "source": [
    "from selenium import webdriver\n",
    "from selenium.webdriver.common.by import By\n",
    "from selenium.webdriver.support.wait import WebDriverWait\n",
    "from selenium.webdriver.support import expected_conditions as EC\n",
    "\n",
    "option = webdriver.ChromeOptions()\n",
    "option.add_extension('./translate.crx')"
   ]
  },
  {
   "cell_type": "code",
   "execution_count": null,
   "metadata": {},
   "outputs": [],
   "source": []
  }
 ],
 "metadata": {
  "kernelspec": {
   "display_name": "AkWiki",
   "language": "python",
   "name": "indicwiki"
  },
  "language_info": {
   "codemirror_mode": {
    "name": "ipython",
    "version": 3
   },
   "file_extension": ".py",
   "mimetype": "text/x-python",
   "name": "python",
   "nbconvert_exporter": "python",
   "pygments_lexer": "ipython3",
   "version": "3.9.12"
  },
  "orig_nbformat": 4
 },
 "nbformat": 4,
 "nbformat_minor": 2
}
